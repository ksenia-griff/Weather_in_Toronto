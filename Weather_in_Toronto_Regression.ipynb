{
 "cells": [
  {
   "cell_type": "markdown",
   "metadata": {},
   "source": [
    "## Python Regression Example"
   ]
  },
  {
   "cell_type": "code",
   "execution_count": null,
   "metadata": {},
   "outputs": [],
   "source": [
    "import numpy as np\n",
    "import pandas as pd\n",
    "from pandas import DataFrame, Series\n",
    "import statsmodels.formula.api as sm\n",
    "import sklearn.linear_model\n",
    "import scipy, scipy.stats\n",
    "import matplotlib.pyplot as plt\n",
    "from matplotlib.pyplot import scatter\n",
    "%matplotlib inline"
   ]
  },
  {
   "cell_type": "code",
   "execution_count": null,
   "metadata": {
    "collapsed": true
   },
   "outputs": [],
   "source": [
    "# Set up the API call to get daily weather data for Toronto from Environment Canada for 2015\n",
    "url = \"http://climate.weather.gc.ca/climate_data/bulk_data_e.html?format=csv&stationID=31688&Year=2015&timeframe=2&submit=Download+Data\""
   ]
  },
  {
   "cell_type": "code",
   "execution_count": null,
   "metadata": {},
   "outputs": [],
   "source": [
    "# Download the data\n",
    "toronto_island_weather_2015 = pd.read_csv(url, skiprows=25)\n",
    "toronto_island_weather_2015"
   ]
  },
  {
   "cell_type": "code",
   "execution_count": null,
   "metadata": {},
   "outputs": [],
   "source": [
    "toronto_island_weather_2015[\"Date\"] = pd.to_datetime(toronto_island_weather_2015[\"Date/Time\"])\n",
    "toronto_island_weather_2015.ix[0].Date"
   ]
  },
  {
   "cell_type": "code",
   "execution_count": null,
   "metadata": {
    "scrolled": true
   },
   "outputs": [],
   "source": [
    "# Get data on watermain breaks in Toronto\n",
    "breaks = pd.read_excel(\"WatermainBreaks.xlsx\", usecols=[0], names=[\"Date\"])\n",
    "breaks"
   ]
  },
  {
   "cell_type": "code",
   "execution_count": null,
   "metadata": {},
   "outputs": [],
   "source": [
    "# Count the breaks per day and limit the dataset to 2015\n",
    "counts = breaks.Date.value_counts()\n",
    "counts_2015 = counts[pd.date_range(start=\"2015-01-01\", end=\"2015-12-31\")]\n",
    "counts_2015"
   ]
  },
  {
   "cell_type": "code",
   "execution_count": null,
   "metadata": {},
   "outputs": [],
   "source": [
    "break_counts = counts_2015.to_frame().reset_index().rename(columns={\"Date\": \"Count\", \"index\": \"Date\"})\n",
    "break_counts"
   ]
  },
  {
   "cell_type": "code",
   "execution_count": null,
   "metadata": {},
   "outputs": [],
   "source": [
    "break_counts_and_temps = break_counts.merge(toronto_island_weather_2015, left_on=\"Date\", right_on=\"Date\", how=\"left\")[[\"Date\", \"Count\", \"Min Temp (°C)\"]]\n",
    "break_counts_and_temps"
   ]
  },
  {
   "cell_type": "code",
   "execution_count": null,
   "metadata": {},
   "outputs": [],
   "source": [
    "plt.scatter(x=break_counts_and_temps[\"Min Temp (°C)\"], y=break_counts_and_temps[\"Count\"])"
   ]
  },
  {
   "cell_type": "code",
   "execution_count": null,
   "metadata": {},
   "outputs": [],
   "source": [
    "# Set up the regression design matrix for statsmodels\n",
    "dm = break_counts_and_temps.dropna().copy() # statsmodels doesn't like NaN's; need to copy so dm is not a view (or next line won't work)\n",
    "dm[\"Intercept\"] = np.ones((len(dm),)) # statsmodels requires a column of 1's if you want an intercept\n",
    "dm = dm.rename(columns={\"Min Temp (°C)\": \"Min Temp (C)\"}) # it also doesn't like funny characters like ° in column names (may be ok in Python 3)\n",
    "\n",
    "Y = dm[\"Count\"]\n",
    "X = dm[[\"Min Temp (C)\", \"Intercept\"]]\n",
    "\n",
    "# Run the regression\n",
    "result = sm.OLS(Y, X).fit()\n",
    "\n",
    "# Show the results\n",
    "result.summary()"
   ]
  },
  {
   "cell_type": "code",
   "execution_count": null,
   "metadata": {},
   "outputs": [],
   "source": [
    "plt.scatter(x=break_counts_and_temps[\"Min Temp (°C)\"], y=break_counts_and_temps[\"Count\"])\n",
    "plt.plot([-25, 20], [5.1763+25*0.208, 5.1763-20*0.208], 'k-')"
   ]
  },
  {
   "cell_type": "code",
   "execution_count": null,
   "metadata": {},
   "outputs": [],
   "source": [
    "# scikit-learn needs the data organized as numpy vectors\n",
    "Y = dm[\"Count\"]\n",
    "X = dm[\"Min Temp (C)\"].values.reshape(-1, 1)\n",
    "model = sklearn.linear_model.LinearRegression().fit(X, Y)\n",
    "print model.coef_\n",
    "print model.intercept_"
   ]
  },
  {
   "cell_type": "code",
   "execution_count": null,
   "metadata": {},
   "outputs": [],
   "source": [
    "# Residual plot\n",
    "scatter(X, model.predict(X) - Y)\n",
    "plt.xlabel(\"Min Temp (C)\")\n",
    "plt.ylabel(\"Residuals\")\n",
    "plt.plot([-25, 20], [0, 0], 'k-')"
   ]
  }
 ],
 "metadata": {
  "kernelspec": {
   "display_name": "Python 3",
   "language": "python",
   "name": "python3"
  },
  "language_info": {
   "codemirror_mode": {
    "name": "ipython",
    "version": 3
   },
   "file_extension": ".py",
   "mimetype": "text/x-python",
   "name": "python",
   "nbconvert_exporter": "python",
   "pygments_lexer": "ipython3",
   "version": "3.6.6"
  }
 },
 "nbformat": 4,
 "nbformat_minor": 2
}
